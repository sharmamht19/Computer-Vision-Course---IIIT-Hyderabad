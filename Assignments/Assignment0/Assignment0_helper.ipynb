{
 "cells": [
  {
   "cell_type": "markdown",
   "id": "66bceb0e",
   "metadata": {},
   "source": [
    "##  1. Extract Frames from Video to Images\n",
    "\n",
    "### Purpose:\n",
    "The `videoToImages` function is designed to extract individual frames from a video file and save each frame as a separate image. This functionality is useful in scenarios where analysis or processing needs to be performed on individual frames of a video.\n",
    "\n",
    "### Function Details:\n",
    "- **Function Name**: `videoToImages`\n",
    "- **Parameters**:\n",
    "  - `input_video_path`: Path to the input video file.\n",
    "  - `output_images_path`: Directory path where the extracted images will be saved.\n",
    "- **Libraries Used**: OpenCV (`cv2`) for video processing, and `os` for file system operations.\n",
    "\n",
    "### Workflow:\n",
    "1. **Output Directory Creation**:\n",
    "   - Checks if the specified `output_images_path` exists.\n",
    "   - If the directory doesnt exist, the function creates it using `os.makedirs()` to store the extracted images.\n",
    "\n",
    "2. **Video Reading and Frame Extraction**:\n",
    "   - Creates a video capture object (`cvideo`) using `cv2.VideoCapture()` to read the input video file.\n",
    "   - Reads the first frame of the video using `cvideo.read()` to initiate the loop.\n",
    "   - Enters a `while` loop to iterate through each frame of the video:\n",
    "     - Writes each frame as an individual image file in the output directory using `cv2.imwrite()`.\n",
    "     - Increments the count for naming each extracted frame sequentially (`frame_0.jpg`, `frame_1.jpg`, and so on).\n",
    "\n",
    "3. **Completion Notification**:\n",
    "   - Prints 'Framing...' to indicate the start of the process.\n",
    "   - Prints 'Done.' when all frames have been extracted and saved as images.\n",
    "\n",
    "### Function Execution:\n",
    "The function is called by providing the path to the input video file (`input_video_path`) and the directory where the extracted images will be saved (`output_images_path`). It executes the process of reading the video file, extracting each frame, and saving them as individual image files in the specified output directory.\n",
    "\n",
    "### Use Case:\n",
    "- This function is beneficial in various applications such as video analysis, computer vision tasks, machine learning models that require individual frames as input, and other multimedia processing applications.\n",
    "- It enables easy access and manipulation of individual frames extracted from a video for further analysis or processing.\n"
   ]
  },
  {
   "cell_type": "markdown",
   "id": "c4783015",
   "metadata": {},
   "source": [
    "## 2. Create Video from Images\n",
    "\n",
    "### Purpose:\n",
    "The `images_to_video` function is designed to create a video file from a sequence of images. This functionality is useful for converting a collection of images into a video format.\n",
    "\n",
    "### Function Details:\n",
    "- **Function Name**: `images_to_video`\n",
    "- **Parameters**:\n",
    "  - `images_folder`: Path to the folder containing input images.\n",
    "  - `output_Dir`: Path to the output video file.\n",
    "  - `frame_rate`: Frames per second (FPS) for the output video.\n",
    "\n",
    "### Workflow:\n",
    "1. **Image File Sorting**:\n",
    "   - Retrieves a list of image filenames from the `images_folder`.\n",
    "   - Sorts the image filenames based on the numerical part in the filenames (e.g., `frame_0.jpg`, `frame_1.jpg`) using the `sorted()` function and a lambda function to ensure the correct sequence of frames.\n",
    "\n",
    "2. **Frame Dimensions Determination**:\n",
    "   - Obtains the path of the first image in the sorted image list (`images`).\n",
    "   - Reads the first image using `cv2.imread()` to extract its height and width for defining the frame size (`frameSize`).\n",
    "\n",
    "3. **Video Creation**:\n",
    "   - Defines the FourCC code for video encoding (commonly `'mp4v'` for MPEG-4).\n",
    "   - Creates a `cv2.VideoWriter` object (`video_writer`) to generate the video file, specifying parameters such as output directory, FourCC code, frame rate, and frame size.\n",
    "\n",
    "4. **Writing Frames to Video**:\n",
    "   - Iterates through the sorted list of images.\n",
    "   - Reads each image using `cv2.imread()` and writes it as a frame into the video using `video_writer.write()`.\n",
    "\n",
    "5. **Completion Notification**:\n",
    "   - Prints 'writing frames...' to indicate the start of the process.\n",
    "   - Prints 'done.' when all images have been written as frames into the video.\n",
    "\n",
    "### Function Execution:\n",
    "The function is called by providing the path to the input images folder (`images_folder`), the output video file path (`output_Dir`), and the desired frame rate (`frame_rate`). It performs the process of creating a video from the sequence of images, ensuring the correct order of frames and encoding them into a video file.\n",
    "\n",
    "### Use Case:\n",
    "- This function is suitable for scenarios where a sequence of images needs to be converted into a video format for visual representation, analysis, presentations, or other multimedia purposes.\n",
    "- It enables easy conversion and compilation of images into a video file for various applications requiring video data.\n"
   ]
  },
  {
   "cell_type": "markdown",
   "id": "26aff539",
   "metadata": {},
   "source": [
    "## Resources Used\n",
    "\n",
    "### 1. [NVIDIA Developer Forum - FourCC Code for MP4 Encoding](https://forums.developer.nvidia.com/t/python-what-is-the-four-characters-fourcc-code-for-mp4-encoding-on-tx2/57701)\n",
    "- **Insight**: Provides information about the FourCC codes suitable for MP4 encoding on the NVIDIA TX2 platform.\n",
    "\n",
    "### 2. [OpenCV Documentation - VideoWriter Class](https://docs.opencv.org/4.x/dd/d9e/classcv_1_1VideoWriter.html)\n",
    "- **Insight**: Offers details about the `VideoWriter` class in OpenCV used for writing videos, including its parameters and functionalities.\n",
    "\n",
    "### 3. [OpenCV Documentation - VideoCapture Class](https://docs.opencv.org/3.4/d8/dfe/classcv_1_1VideoCapture.html)\n",
    "- **Insight**: Provides information about the `VideoCapture` class in OpenCV, which is used for reading videos.\n"
   ]
  },
  {
   "cell_type": "code",
   "execution_count": null,
   "id": "0ebdf529",
   "metadata": {},
   "outputs": [],
   "source": []
  }
 ],
 "metadata": {
  "kernelspec": {
   "display_name": "Python 3 (ipykernel)",
   "language": "python",
   "name": "python3"
  },
  "language_info": {
   "codemirror_mode": {
    "name": "ipython",
    "version": 3
   },
   "file_extension": ".py",
   "mimetype": "text/x-python",
   "name": "python",
   "nbconvert_exporter": "python",
   "pygments_lexer": "ipython3",
   "version": "3.11.6"
  }
 },
 "nbformat": 4,
 "nbformat_minor": 5
}

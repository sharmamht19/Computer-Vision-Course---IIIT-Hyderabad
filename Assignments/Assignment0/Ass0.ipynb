{
 "cells": [
  {
   "cell_type": "markdown",
   "id": "34412105",
   "metadata": {},
   "source": [
    "# ASSIGNMENT 0"
   ]
  },
  {
   "cell_type": "code",
   "execution_count": 13,
   "id": "4d856b0c",
   "metadata": {},
   "outputs": [],
   "source": [
    "import cv2\n",
    "import os\n",
    "import numpy as np"
   ]
  },
  {
   "cell_type": "markdown",
   "id": "efecfbdd",
   "metadata": {},
   "source": [
    "# 1.1 Video ↔ Images: \n",
    "Write a program to convert a given video to its constituent images. Your output should be in a specified folder. "
   ]
  },
  {
   "cell_type": "code",
   "execution_count": 2,
   "id": "40f9beb8",
   "metadata": {},
   "outputs": [],
   "source": [
    "def videoToImages(input_video_path,output_images_path):\n",
    "    if not os.path.exists(output_images_path):\n",
    "        os.makedirs(output_images_path)\n",
    "    \n",
    "    # creating object for Capturing video..\n",
    "    cvideo = cv2.VideoCapture(input_video_path)\n",
    "    retval, image = cvideo.read()\n",
    "    count = 0\n",
    "    print(\"framing....\")\n",
    "    while retval:\n",
    "        #getting each frame one by one..\n",
    "        cv2.imwrite(f\"{output_images_path}/frame_{count}.jpg\",image)\n",
    "        count +=1\n",
    "        retval, image = cvideo.read()\n",
    "    print(\"Done.\")"
   ]
  },
  {
   "cell_type": "code",
   "execution_count": 3,
   "id": "eef4dd4b",
   "metadata": {},
   "outputs": [
    {
     "name": "stdout",
     "output_type": "stream",
     "text": [
      "framing....\n",
      "Done.\n"
     ]
    }
   ],
   "source": [
    "# giving input for video and output folder\n",
    "input_video_path = 'video/sample.mp4'\n",
    "output_images_path = 'images'\n",
    "videoToImages(input_video_path,output_images_path)"
   ]
  },
  {
   "cell_type": "markdown",
   "id": "571ee0b2",
   "metadata": {},
   "source": [
    "# 1.2 Images ↔ Video: \n",
    "Write another program that will merge a set of images in a folder into a single video. \n",
    "You should be able to control the frame rate in the video that is created."
   ]
  },
  {
   "cell_type": "code",
   "execution_count": 4,
   "id": "dea8c265",
   "metadata": {},
   "outputs": [],
   "source": [
    "def images_to_video(images_folder , output_Dir , frame_rate):\n",
    "    # get the list of images fro image_folder\n",
    "    images = [file for file in os.listdir(images_folder) if file.endswith(\".jpg\")]\n",
    "    \n",
    "    images = sorted(images, key = lambda filename : int(filename.split('_')[-1].split('.')[0]))\n",
    "    #fist image path to get the idea of shape of images.\n",
    "    first_image_path = os.path.join(images_folder, images[0])\n",
    "    \n",
    "    #read the first image  to get height and width..\n",
    "    first_image = cv2.imread(first_image_path)\n",
    "    height, width = first_image.shape[:2]\n",
    "    frameSize = (width, height)\n",
    "#     print(images)\n",
    "    \n",
    "    #get fourcc - > code  which is 4 byte codec for compress the frames.\n",
    "    fourcc = cv2.VideoWriter_fourcc(*'mp4v')\n",
    "    print(\"fourcc -> \",fourcc)\n",
    "    #creating a VideoWriter object to create video.\n",
    "    video_writer  = cv2.VideoWriter(output_Dir ,fourcc , frame_rate, frameSize)\n",
    "    \n",
    "    print(\"writing frames..\")\n",
    "    #writing each image into the video as frames\n",
    "    for img in images:\n",
    "        img_path = os.path.join(images_folder,img)\n",
    "        frame = cv2.imread(img_path)\n",
    "        video_writer.write(frame)\n",
    "        \n",
    "    video_writer.release() # release the resources\n",
    "    print(\"done.\")"
   ]
  },
  {
   "cell_type": "code",
   "execution_count": 5,
   "id": "a59f9ca6",
   "metadata": {},
   "outputs": [
    {
     "name": "stdout",
     "output_type": "stream",
     "text": [
      "fourcc ->  1983148141\n",
      "writing frames..\n",
      "done.\n"
     ]
    }
   ],
   "source": [
    "#giving input folder of images and output directory name along with frame rate..\n",
    "input_folder_name = 'images'\n",
    "output_folder_name = 'OutputVideo.mp4'\n",
    "frame_rate = 50 #fps\n",
    "images_to_video(input_folder_name , output_folder_name , frame_rate)\n"
   ]
  },
  {
   "cell_type": "markdown",
   "id": "f5a33652",
   "metadata": {},
   "source": [
    "# 2 Capturing Images:\n",
    " Learn how to capture frames from a webcam connected to your computer and save them as images in a folder. You may use either the built-in camera of your laptop or an external one connected through USB.You should also be able to display the frames (the video) on the screen while capturing"
   ]
  },
  {
   "cell_type": "code",
   "execution_count": 16,
   "id": "81f951cd",
   "metadata": {},
   "outputs": [],
   "source": [
    "def capture_frame_from_camera(cam_port, output_dir):\n",
    "    cam = cv2.VideoCapture(cam_port)\n",
    "    if not cam.isOpened():\n",
    "        print(\" camera is not opening..\")\n",
    "        return\n",
    "    \n",
    "    if not os.path.exists(output_dir):\n",
    "        os.makedirs(output_dir)\n",
    "    frame_id = 1\n",
    "    while True:\n",
    "        retVal,image = cam.read()\n",
    "        if retVal:\n",
    "            cv2.imshow(\"Streaming frames\",image)\n",
    "            inp = cv2.waitKey(1) & 0xFF\n",
    "            if inp == ord('s'):\n",
    "                cv2.imwrite(f\"{output_dir}/frame_{frame_id}.jpg\",image)\n",
    "                frame_id += 1\n",
    "                print(\"image captured.\")\n",
    "            elif inp == ord('d'):\n",
    "                break\n",
    "            else:\n",
    "                continue\n",
    "        else:\n",
    "            print(\"something went wrong.\")\n",
    "            break\n",
    "            \n",
    "    cam.release()\n",
    "    cv2.destroyAllWindows()\n",
    "    inp = cv2.waitKey(1) #force quit the window\n",
    "    print(\"Capturing done.\")"
   ]
  },
  {
   "cell_type": "code",
   "execution_count": 17,
   "id": "4d4d3092",
   "metadata": {},
   "outputs": [
    {
     "name": "stdout",
     "output_type": "stream",
     "text": [
      "image captured.\n",
      "image captured.\n",
      "Capturing done.\n"
     ]
    }
   ],
   "source": [
    "cam_port = 0\n",
    "output_dir = \"camera_frames\"\n",
    "capture_frame_from_camera(cam_port, output_dir)"
   ]
  },
  {
   "cell_type": "markdown",
   "id": "b17eff9a",
   "metadata": {},
   "source": [
    "Chroma Keying: Read about the technique of chroma keying. Following are a few good starting points: • Introduction: http://en.wikipedia.org/wiki/Chroma key\n",
    "• Alvy Ray Smith and James F Blinn, ”Blue Screen Matting”, SIGGRAPH’96.\n",
    "Create an interesting composite of two videos using this technique, possibly with one video including yourselves."
   ]
  },
  {
   "cell_type": "code",
   "execution_count": null,
   "id": "531f1f4f",
   "metadata": {},
   "outputs": [],
   "source": [
    "\n",
    "\n",
    "def read_video(video_path):\n",
    "    video = cv2.VideoCapture(video_path)\n",
    "    return video\n",
    "\n",
    "def resize_frame(frame, width, height):\n",
    "    return cv2.resize(frame, (width, height))\n",
    "\n",
    "def chroma_key(frame, background_frame):\n",
    "    # Convert the frame to HSV color space\n",
    "    hsv = cv2.cvtColor(frame, cv2.COLOR_BGR2HSV)\n",
    "\n",
    "    # Define the range of green color in HSV\n",
    "    lower_green = np.array([40, 40, 40])\n",
    "    upper_green = np.array([80, 255, 255])\n",
    "\n",
    "    # Create a mask for the green color\n",
    "    mask = cv2.inRange(hsv, lower_green, upper_green)\n",
    "\n",
    "    # Invert the mask to get the foreground (subject)\n",
    "    fg_masked = cv2.bitwise_and(frame, frame, mask=~mask)\n",
    "\n",
    "    # Use the mask to get the background\n",
    "    bg_masked = cv2.bitwise_and(background_frame, background_frame, mask=mask)\n",
    "\n",
    "    # Combine the foreground and background\n",
    "    result = cv2.add(fg_masked, bg_masked)\n",
    "\n",
    "    return result\n",
    "\n",
    "def write_video(output_path, frames, fps, width, height):\n",
    "    fourcc = cv2.VideoWriter_fourcc(*'mp4v')\n",
    "    out = cv2.VideoWriter(output_path, fourcc, fps, (width, height))\n",
    "\n",
    "    for frame in frames:\n",
    "        out.write(frame)\n",
    "\n",
    "    out.release()\n",
    "\n",
    "def chroma_keying(foreground_path, background_path, output_path):\n",
    "    foreground_video = read_video(foreground_path)\n",
    "\n",
    "    # Get video properties (width, height, frames per second) of the foreground video\n",
    "    fg_width = int(foreground_video.get(3))\n",
    "    fg_height = int(foreground_video.get(4))\n",
    "    fps = foreground_video.get(5)\n",
    "\n",
    "    background_video = read_video(background_path)\n",
    "    # Get video properties (width, height) of the background video\n",
    "    bg_width = int(background_video.get(3))\n",
    "    bg_height = int(background_video.get(4))\n",
    "\n",
    "    # Create a list to store the processed frames\n",
    "    processed_frames = []\n",
    "\n",
    "    while True:\n",
    "        # Read frames from the videos\n",
    "        ret_fg, fg_frame = foreground_video.read()\n",
    "        ret_bg, bg_frame = background_video.read()\n",
    "\n",
    "        # Break the loop if either of the videos ends\n",
    "        if fg_frame is None or bg_frame is None:\n",
    "            break\n",
    "\n",
    "        # Resize the foreground frame to match the background size\n",
    "        fg_frame_resized = resize_frame(fg_frame, bg_width, bg_height)\n",
    "\n",
    "        # Apply chroma keying\n",
    "        result_frame = chroma_key(fg_frame_resized, bg_frame)\n",
    "\n",
    "        # Append the processed frame to the list\n",
    "        processed_frames.append(result_frame)\n",
    "\n",
    "    # Release the video capture objects\n",
    "    background_video.release()\n",
    "    foreground_video.release()\n",
    "    \n",
    "\n",
    "    # Write the result to the output video\n",
    "    write_video(output_path, processed_frames, fps, bg_width, bg_height)\n",
    "\n",
    "    print(\"Done.\")\n",
    "\n",
    "\n",
    "foreground_path = \"chromaKeying/fg_video.mp4\"\n",
    "background_path = \"chromaKeying/bg_video.mp4\"\n",
    "output_path = \"chromaKeying/output_video.mp4\"\n",
    "\n",
    "chroma_keying(foreground_path, background_path, output_path)"
   ]
  }
 ],
 "metadata": {
  "kernelspec": {
   "display_name": "Python 3 (ipykernel)",
   "language": "python",
   "name": "python3"
  },
  "language_info": {
   "codemirror_mode": {
    "name": "ipython",
    "version": 3
   },
   "file_extension": ".py",
   "mimetype": "text/x-python",
   "name": "python",
   "nbconvert_exporter": "python",
   "pygments_lexer": "ipython3",
   "version": "3.11.6"
  }
 },
 "nbformat": 4,
 "nbformat_minor": 5
}
